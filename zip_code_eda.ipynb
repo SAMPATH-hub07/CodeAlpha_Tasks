{
 "cells": [
  {
   "cell_type": "markdown",
   "id": "ca18b51f",
   "metadata": {},
   "source": [
    "# ZIP Code EDA Project\n",
    "This notebook performs exploratory data analysis on a synthetic dataset containing ZIP codes, states, cities, and user counts."
   ]
  },
  {
   "cell_type": "code",
   "execution_count": null,
   "id": "2484d742",
   "metadata": {},
   "outputs": [],
   "source": [
    "import pandas as pd\n",
    "import matplotlib.pyplot as plt\n",
    "import seaborn as sns\n",
    "sns.set(style='whitegrid')"
   ]
  },
  {
   "cell_type": "code",
   "execution_count": null,
   "id": "b95356f4",
   "metadata": {},
   "outputs": [],
   "source": [
    "data = pd.read_csv('sample_zip_data.csv')\n",
    "data.head()"
   ]
  },
  {
   "cell_type": "code",
   "execution_count": null,
   "id": "a3a4dc99",
   "metadata": {},
   "outputs": [],
   "source": [
    "# Dataset Info\n",
    "data.info()"
   ]
  },
  {
   "cell_type": "code",
   "execution_count": null,
   "id": "788d5fde",
   "metadata": {},
   "outputs": [],
   "source": [
    "# Summary Statistics\n",
    "data.describe()"
   ]
  },
  {
   "cell_type": "code",
   "execution_count": null,
   "id": "a2bc8cae",
   "metadata": {},
   "outputs": [],
   "source": [
    "# Check for Missing Values\n",
    "data.isnull().sum()"
   ]
  },
  {
   "cell_type": "code",
   "execution_count": null,
   "id": "81294b85",
   "metadata": {},
   "outputs": [],
   "source": [
    "# Top 10 ZIP Codes by User Count\n",
    "top_zip = data.groupby('ZIP Code')['Users'].sum().sort_values(ascending=False).head(10)\n",
    "top_zip"
   ]
  },
  {
   "cell_type": "code",
   "execution_count": null,
   "id": "0ea47416",
   "metadata": {},
   "outputs": [],
   "source": [
    "# User Count by State\n",
    "state_dist = data.groupby('State')['Users'].sum().sort_values(ascending=False)\n",
    "state_dist"
   ]
  },
  {
   "cell_type": "code",
   "execution_count": null,
   "id": "671cef19",
   "metadata": {},
   "outputs": [],
   "source": [
    "# Plot: Top 10 ZIP Codes by Users\n",
    "plt.figure(figsize=(10,6))\n",
    "sns.barplot(x=top_zip.values, y=top_zip.index, palette='viridis')\n",
    "plt.title('Top 10 ZIP Codes by Users')\n",
    "plt.xlabel('User Count')\n",
    "plt.ylabel('ZIP Code')\n",
    "plt.tight_layout()\n",
    "plt.show()"
   ]
  },
  {
   "cell_type": "code",
   "execution_count": null,
   "id": "e2939d55",
   "metadata": {},
   "outputs": [],
   "source": [
    "# Plot: Total Users by State\n",
    "plt.figure(figsize=(8,5))\n",
    "sns.barplot(x=state_dist.index, y=state_dist.values, palette='muted')\n",
    "plt.title('User Distribution by State')\n",
    "plt.xlabel('State')\n",
    "plt.ylabel('User Count')\n",
    "plt.tight_layout()\n",
    "plt.show()"
   ]
  }
 ],
 "metadata": {},
 "nbformat": 4,
 "nbformat_minor": 5
}